{
 "cells": [
  {
   "cell_type": "code",
   "execution_count": 15,
   "metadata": {
    "collapsed": true,
    "pycharm": {
     "is_executing": false
    }
   },
   "outputs": [],
   "source": [
    "import pandas as pd\n",
    "from sklearn.feature_extraction.text import TfidfVectorizer\n",
    "from toshl_fixer.common import DATA_DIR, csv_name\n"
   ]
  },
  {
   "cell_type": "code",
   "execution_count": 16,
   "outputs": [],
   "source": [
    "def vectorize_desc(data):\n",
    "    vectorizer = TfidfVectorizer()\n",
    "    vectors = vectorizer.fit_transform(data)\n",
    "    feature_names = vectorizer.get_feature_names()\n",
    "    dense = vectors.todense()\n",
    "    denselist = dense.tolist()\n",
    "    return pd.DataFrame(denselist, columns=feature_names)\n",
    "\n",
    "def create_vector(data):\n",
    "    df = vectorize_desc(data['desc'])\n",
    "    df['amount'] = data['amount'] \n",
    "    return df\n"
   ],
   "metadata": {
    "collapsed": false,
    "pycharm": {
     "name": "#%%\n",
     "is_executing": false
    }
   }
  },
  {
   "cell_type": "code",
   "execution_count": 17,
   "outputs": [],
   "source": [
    "training_data = pd.read_csv(DATA_DIR / csv_name(from_date=\"2019-12-01\", to_date=\"2019-12-31\"))\n",
    "test_data = pd.read_csv(DATA_DIR / csv_name(from_date=\"2019-11-01\", to_date=\"2019-11-31\"))\n",
    "train_len = len(training_data)\n",
    "data = pd.concat([training_data, test_data], ignore_index=True, sort=False)\n",
    "data = data.fillna('missing')\n",
    "data['cat/tag'] = data.category.str.cat(data.tag, sep='/')\n",
    "del data['id']\n",
    "del data['category']\t\n",
    "del data['tag']"
   ],
   "metadata": {
    "collapsed": false,
    "pycharm": {
     "name": "#%%\n",
     "is_executing": false
    }
   }
  },
  {
   "cell_type": "code",
   "execution_count": 18,
   "outputs": [
    {
     "data": {
      "text/plain": "                             desc  amount        date  \\\n128              הפניקס אוטו חובה -702.00  2019-12-01   \n129  WIND MOBILITY GMBH BERLIN DE  -35.50  2019-12-01   \n130       טיב טעם יהודה המכבי ת\"א -110.33  2019-12-01   \n131     קיוסק יהודה מכבי 55 תל אב  -32.00  2019-12-01   \n132                     רובין הוד  -20.00  2019-12-01   \n..                            ...     ...         ...   \n301             זארה רמת אביב ת\"א -341.50  2019-11-01   \n302       טיב טעם יהודה המכבי ת\"א  -18.50  2019-11-01   \n303     סופר זול בן גוריון בע\"מ-ג  -30.00  2019-11-01   \n304                 עמל.ערוץ יש 7  -11.55  2019-11-01   \n305             העברה ב BIT בנה\"פ -320.00  2019-11-01   \n\n                            cat/tag  \n128                  Basics/Charity  \n129              Transport/scooters  \n130                Basics/groceries  \n131                Basics/groceries  \n132                    Leisure/apps  \n..                              ...  \n301                   Other/missing  \n302                Basics/groceries  \n303                   Other/missing  \n304  Health & Personal Care/missing  \n305       Home & Utilities/cleaning  \n\n[178 rows x 4 columns]",
      "text/html": "<div>\n<style scoped>\n    .dataframe tbody tr th:only-of-type {\n        vertical-align: middle;\n    }\n\n    .dataframe tbody tr th {\n        vertical-align: top;\n    }\n\n    .dataframe thead th {\n        text-align: right;\n    }\n</style>\n<table border=\"1\" class=\"dataframe\">\n  <thead>\n    <tr style=\"text-align: right;\">\n      <th></th>\n      <th>desc</th>\n      <th>amount</th>\n      <th>date</th>\n      <th>cat/tag</th>\n    </tr>\n  </thead>\n  <tbody>\n    <tr>\n      <th>128</th>\n      <td>הפניקס אוטו חובה</td>\n      <td>-702.00</td>\n      <td>2019-12-01</td>\n      <td>Basics/Charity</td>\n    </tr>\n    <tr>\n      <th>129</th>\n      <td>WIND MOBILITY GMBH BERLIN DE</td>\n      <td>-35.50</td>\n      <td>2019-12-01</td>\n      <td>Transport/scooters</td>\n    </tr>\n    <tr>\n      <th>130</th>\n      <td>טיב טעם יהודה המכבי ת\"א</td>\n      <td>-110.33</td>\n      <td>2019-12-01</td>\n      <td>Basics/groceries</td>\n    </tr>\n    <tr>\n      <th>131</th>\n      <td>קיוסק יהודה מכבי 55 תל אב</td>\n      <td>-32.00</td>\n      <td>2019-12-01</td>\n      <td>Basics/groceries</td>\n    </tr>\n    <tr>\n      <th>132</th>\n      <td>רובין הוד</td>\n      <td>-20.00</td>\n      <td>2019-12-01</td>\n      <td>Leisure/apps</td>\n    </tr>\n    <tr>\n      <th>...</th>\n      <td>...</td>\n      <td>...</td>\n      <td>...</td>\n      <td>...</td>\n    </tr>\n    <tr>\n      <th>301</th>\n      <td>זארה רמת אביב ת\"א</td>\n      <td>-341.50</td>\n      <td>2019-11-01</td>\n      <td>Other/missing</td>\n    </tr>\n    <tr>\n      <th>302</th>\n      <td>טיב טעם יהודה המכבי ת\"א</td>\n      <td>-18.50</td>\n      <td>2019-11-01</td>\n      <td>Basics/groceries</td>\n    </tr>\n    <tr>\n      <th>303</th>\n      <td>סופר זול בן גוריון בע\"מ-ג</td>\n      <td>-30.00</td>\n      <td>2019-11-01</td>\n      <td>Other/missing</td>\n    </tr>\n    <tr>\n      <th>304</th>\n      <td>עמל.ערוץ יש 7</td>\n      <td>-11.55</td>\n      <td>2019-11-01</td>\n      <td>Health &amp; Personal Care/missing</td>\n    </tr>\n    <tr>\n      <th>305</th>\n      <td>העברה ב BIT בנה\"פ</td>\n      <td>-320.00</td>\n      <td>2019-11-01</td>\n      <td>Home &amp; Utilities/cleaning</td>\n    </tr>\n  </tbody>\n</table>\n<p>178 rows × 4 columns</p>\n</div>"
     },
     "metadata": {},
     "output_type": "execute_result",
     "execution_count": 18
    }
   ],
   "source": [
    "vec = create_vector(data)\n",
    "training_vec = vec.iloc[:train_len]\n",
    "training_data = data.iloc[:train_len]\n",
    "test_vec = vec.iloc[train_len:]\n",
    "test_data = data.iloc[train_len:]\n",
    "test_data"
   ],
   "metadata": {
    "collapsed": false,
    "pycharm": {
     "name": "#%%\n",
     "is_executing": false
    }
   }
  },
  {
   "cell_type": "code",
   "execution_count": 19,
   "outputs": [],
   "source": [
    "from sklearn import tree\n",
    "X = training_vec\n",
    "Y = training_data['cat/tag']\n",
    "clf = tree.DecisionTreeClassifier()\n",
    "clf = clf.fit(X, Y)"
   ],
   "metadata": {
    "collapsed": false,
    "pycharm": {
     "name": "#%%\n",
     "is_executing": false
    }
   }
  },
  {
   "cell_type": "code",
   "execution_count": 22,
   "outputs": [
    {
     "data": {
      "text/plain": "                       desc  amount        date  \\\n137          ח-ן שרות סלקום -205.49  2019-11-29   \n138          AMZN MKTP US*G -219.61  2019-11-29   \n139  AMZN Mktp US*G15RS21Z3 -219.61  2019-11-29   \n141            פייפר עודפים -829.26  2019-11-29   \n142       חופית YELLOW / פז -275.04  2019-11-29   \n..                      ...     ...         ...   \n299        הפניקס אוטו חובה -702.00  2019-11-01   \n300               אספרסו בר -224.00  2019-11-01   \n301       זארה רמת אביב ת\"א -341.50  2019-11-01   \n304           עמל.ערוץ יש 7  -11.55  2019-11-01   \n305       העברה ב BIT בנה\"פ -320.00  2019-11-01   \n\n                            cat/tag                        label  \n137          Home & Utilities/phone             Basics/groceries  \n138                   Other/missing             Basics/groceries  \n139                   Other/missing             Basics/groceries  \n141                Clothing/clothes            Education/missing  \n142                   Transport/car                Other/missing  \n..                              ...                          ...  \n299                unsorted/missing               Basics/Charity  \n300              Leisure/Eating out             Basics/groceries  \n301                   Other/missing             Clothing/clothes  \n304  Health & Personal Care/missing  Taxes & Insurance/bank fees  \n305       Home & Utilities/cleaning                Other/missing  \n\n[139 rows x 5 columns]",
      "text/html": "<div>\n<style scoped>\n    .dataframe tbody tr th:only-of-type {\n        vertical-align: middle;\n    }\n\n    .dataframe tbody tr th {\n        vertical-align: top;\n    }\n\n    .dataframe thead th {\n        text-align: right;\n    }\n</style>\n<table border=\"1\" class=\"dataframe\">\n  <thead>\n    <tr style=\"text-align: right;\">\n      <th></th>\n      <th>desc</th>\n      <th>amount</th>\n      <th>date</th>\n      <th>cat/tag</th>\n      <th>label</th>\n    </tr>\n  </thead>\n  <tbody>\n    <tr>\n      <th>137</th>\n      <td>ח-ן שרות סלקום</td>\n      <td>-205.49</td>\n      <td>2019-11-29</td>\n      <td>Home &amp; Utilities/phone</td>\n      <td>Basics/groceries</td>\n    </tr>\n    <tr>\n      <th>138</th>\n      <td>AMZN MKTP US*G</td>\n      <td>-219.61</td>\n      <td>2019-11-29</td>\n      <td>Other/missing</td>\n      <td>Basics/groceries</td>\n    </tr>\n    <tr>\n      <th>139</th>\n      <td>AMZN Mktp US*G15RS21Z3</td>\n      <td>-219.61</td>\n      <td>2019-11-29</td>\n      <td>Other/missing</td>\n      <td>Basics/groceries</td>\n    </tr>\n    <tr>\n      <th>141</th>\n      <td>פייפר עודפים</td>\n      <td>-829.26</td>\n      <td>2019-11-29</td>\n      <td>Clothing/clothes</td>\n      <td>Education/missing</td>\n    </tr>\n    <tr>\n      <th>142</th>\n      <td>חופית YELLOW / פז</td>\n      <td>-275.04</td>\n      <td>2019-11-29</td>\n      <td>Transport/car</td>\n      <td>Other/missing</td>\n    </tr>\n    <tr>\n      <th>...</th>\n      <td>...</td>\n      <td>...</td>\n      <td>...</td>\n      <td>...</td>\n      <td>...</td>\n    </tr>\n    <tr>\n      <th>299</th>\n      <td>הפניקס אוטו חובה</td>\n      <td>-702.00</td>\n      <td>2019-11-01</td>\n      <td>unsorted/missing</td>\n      <td>Basics/Charity</td>\n    </tr>\n    <tr>\n      <th>300</th>\n      <td>אספרסו בר</td>\n      <td>-224.00</td>\n      <td>2019-11-01</td>\n      <td>Leisure/Eating out</td>\n      <td>Basics/groceries</td>\n    </tr>\n    <tr>\n      <th>301</th>\n      <td>זארה רמת אביב ת\"א</td>\n      <td>-341.50</td>\n      <td>2019-11-01</td>\n      <td>Other/missing</td>\n      <td>Clothing/clothes</td>\n    </tr>\n    <tr>\n      <th>304</th>\n      <td>עמל.ערוץ יש 7</td>\n      <td>-11.55</td>\n      <td>2019-11-01</td>\n      <td>Health &amp; Personal Care/missing</td>\n      <td>Taxes &amp; Insurance/bank fees</td>\n    </tr>\n    <tr>\n      <th>305</th>\n      <td>העברה ב BIT בנה\"פ</td>\n      <td>-320.00</td>\n      <td>2019-11-01</td>\n      <td>Home &amp; Utilities/cleaning</td>\n      <td>Other/missing</td>\n    </tr>\n  </tbody>\n</table>\n<p>139 rows × 5 columns</p>\n</div>"
     },
     "metadata": {},
     "output_type": "execute_result",
     "execution_count": 22
    }
   ],
   "source": [
    "for index, row in test_vec.iterrows():\n",
    "    test_data.at[index, 'label'] = clf.predict(row.values.reshape(1, -1))[0]\n",
    "\t\n",
    "test_data[test_data['label'] != test_data['cat/tag']]\n",
    "# test_vec.iloc[1].values"
   ],
   "metadata": {
    "collapsed": false,
    "pycharm": {
     "name": "#%%\n",
     "is_executing": false
    }
   }
  }
 ],
 "metadata": {
  "kernelspec": {
   "display_name": "Python 3",
   "language": "python",
   "name": "python3"
  },
  "language_info": {
   "codemirror_mode": {
    "name": "ipython",
    "version": 2
   },
   "file_extension": ".py",
   "mimetype": "text/x-python",
   "name": "python",
   "nbconvert_exporter": "python",
   "pygments_lexer": "ipython2",
   "version": "2.7.6"
  },
  "pycharm": {
   "stem_cell": {
    "cell_type": "raw",
    "source": [],
    "metadata": {
     "collapsed": false
    }
   }
  }
 },
 "nbformat": 4,
 "nbformat_minor": 0
}