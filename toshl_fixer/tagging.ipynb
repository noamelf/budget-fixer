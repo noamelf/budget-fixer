{
 "cells": [
  {
   "cell_type": "code",
   "execution_count": 92,
   "metadata": {
    "collapsed": true,
    "pycharm": {
     "is_executing": false
    }
   },
   "outputs": [],
   "source": [
    "import pandas as pd\n",
    "from sklearn.feature_extraction.text import TfidfVectorizer\n",
    "from toshl_fixer.common import DATA_DIR, csv_name"
   ]
  },
  {
   "cell_type": "code",
   "execution_count": 92,
   "outputs": [],
   "source": [],
   "metadata": {
    "collapsed": false,
    "pycharm": {
     "name": "#%%\n",
     "is_executing": false
    }
   }
  },
  {
   "cell_type": "code",
   "execution_count": 93,
   "outputs": [],
   "source": [
    "def vectorize_desc(data):\n",
    "    vectorizer = TfidfVectorizer()\n",
    "    vectors = vectorizer.fit_transform(data)\n",
    "    feature_names = vectorizer.get_feature_names()\n",
    "    dense = vectors.todense()\n",
    "    denselist = dense.tolist()\n",
    "    return pd.DataFrame(denselist, columns=feature_names)\n",
    "\n",
    "def create_vector(data):\n",
    "    df = vectorize_desc(data['desc'])\n",
    "    df['amount'] = data['amount'] \n",
    "    return df\n"
   ],
   "metadata": {
    "collapsed": false,
    "pycharm": {
     "name": "#%%\n",
     "is_executing": false
    }
   }
  },
  {
   "cell_type": "code",
   "execution_count": 94,
   "outputs": [],
   "source": [
    "training_data = pd.read_csv(DATA_DIR / csv_name(from_date=\"2019-12-01\", to_date=\"2019-12-31\"))\n",
    "test_data = pd.read_csv(DATA_DIR / csv_name(from_date=\"2019-11-01\", to_date=\"2019-11-31\"))\n",
    "train_len = len(training_data)\n",
    "data = pd.concat([test_data, training_data], ignore_index=True, sort=False)\n",
    "data = data.fillna('missing')\n",
    "data['cat/tag'] = data.category.str.cat(data.tag, sep='/')\n",
    "del data['id']\n",
    "del data['category']\t\n",
    "del data['tag']"
   ],
   "metadata": {
    "collapsed": false,
    "pycharm": {
     "name": "#%%\n",
     "is_executing": false
    }
   }
  },
  {
   "cell_type": "code",
   "execution_count": 95,
   "outputs": [
    {
     "data": {
      "text/plain": "                             desc  amount                      cat/tag\n91            סופרפארם מגדלי אלון  -67.90                Other/missing\n92             רולדין יהודה המכבי  -10.00                Other/missing\n93        טיב טעם יהודה המכבי ת\"א  -41.21             Basics/groceries\n94                         קיט קט  -57.40               Basics/missing\n95                         תן ביס  -35.75             unsorted/missing\n..                            ...     ...                          ...\n266  APPLE.COM/BILL ITUNES.COM IE   -3.90              Leisure/devices\n267                     רובין הוד  -20.00                 Leisure/apps\n268                 טיב טעם יהודה -110.33             Basics/groceries\n269                קיוסק יהודה מכ  -32.00           Leisure/Eating out\n270                 עמל.ערוץ יש 8  -13.20  Taxes & Insurance/bank fees\n\n[180 rows x 3 columns]",
      "text/html": "<div>\n<style scoped>\n    .dataframe tbody tr th:only-of-type {\n        vertical-align: middle;\n    }\n\n    .dataframe tbody tr th {\n        vertical-align: top;\n    }\n\n    .dataframe thead th {\n        text-align: right;\n    }\n</style>\n<table border=\"1\" class=\"dataframe\">\n  <thead>\n    <tr style=\"text-align: right;\">\n      <th></th>\n      <th>desc</th>\n      <th>amount</th>\n      <th>cat/tag</th>\n    </tr>\n  </thead>\n  <tbody>\n    <tr>\n      <th>91</th>\n      <td>סופרפארם מגדלי אלון</td>\n      <td>-67.90</td>\n      <td>Other/missing</td>\n    </tr>\n    <tr>\n      <th>92</th>\n      <td>רולדין יהודה המכבי</td>\n      <td>-10.00</td>\n      <td>Other/missing</td>\n    </tr>\n    <tr>\n      <th>93</th>\n      <td>טיב טעם יהודה המכבי ת\"א</td>\n      <td>-41.21</td>\n      <td>Basics/groceries</td>\n    </tr>\n    <tr>\n      <th>94</th>\n      <td>קיט קט</td>\n      <td>-57.40</td>\n      <td>Basics/missing</td>\n    </tr>\n    <tr>\n      <th>95</th>\n      <td>תן ביס</td>\n      <td>-35.75</td>\n      <td>unsorted/missing</td>\n    </tr>\n    <tr>\n      <th>...</th>\n      <td>...</td>\n      <td>...</td>\n      <td>...</td>\n    </tr>\n    <tr>\n      <th>266</th>\n      <td>APPLE.COM/BILL ITUNES.COM IE</td>\n      <td>-3.90</td>\n      <td>Leisure/devices</td>\n    </tr>\n    <tr>\n      <th>267</th>\n      <td>רובין הוד</td>\n      <td>-20.00</td>\n      <td>Leisure/apps</td>\n    </tr>\n    <tr>\n      <th>268</th>\n      <td>טיב טעם יהודה</td>\n      <td>-110.33</td>\n      <td>Basics/groceries</td>\n    </tr>\n    <tr>\n      <th>269</th>\n      <td>קיוסק יהודה מכ</td>\n      <td>-32.00</td>\n      <td>Leisure/Eating out</td>\n    </tr>\n    <tr>\n      <th>270</th>\n      <td>עמל.ערוץ יש 8</td>\n      <td>-13.20</td>\n      <td>Taxes &amp; Insurance/bank fees</td>\n    </tr>\n  </tbody>\n</table>\n<p>180 rows × 3 columns</p>\n</div>"
     },
     "metadata": {},
     "output_type": "execute_result",
     "execution_count": 95
    }
   ],
   "source": [
    "vec = create_vector(data)\n",
    "training_vec = vec.iloc[:train_len]\n",
    "training_data = data.iloc[:train_len]\n",
    "test_vec = vec.iloc[train_len:]\n",
    "test_data = data.iloc[train_len:]\n",
    "test_data"
   ],
   "metadata": {
    "collapsed": false,
    "pycharm": {
     "name": "#%%\n",
     "is_executing": false
    }
   }
  },
  {
   "cell_type": "code",
   "execution_count": 96,
   "outputs": [],
   "source": [
    "from sklearn import tree\n",
    "X = training_vec\n",
    "Y = training_data['cat/tag']\n",
    "clf = tree.DecisionTreeClassifier()\n",
    "clf = clf.fit(X, Y)"
   ],
   "metadata": {
    "collapsed": false,
    "pycharm": {
     "name": "#%%\n",
     "is_executing": false
    }
   }
  },
  {
   "cell_type": "code",
   "execution_count": 97,
   "outputs": [
    {
     "name": "stderr",
     "text": [
      "/home/noam/.pyenv/versions/toshl-fixer/lib/python3.8/site-packages/pandas/core/indexing.py:376: SettingWithCopyWarning: \n",
      "A value is trying to be set on a copy of a slice from a DataFrame.\n",
      "Try using .loc[row_indexer,col_indexer] = value instead\n",
      "\n",
      "See the caveats in the documentation: http://pandas.pydata.org/pandas-docs/stable/user_guide/indexing.html#returning-a-view-versus-a-copy\n",
      "  self.obj[key] = _infer_fill_value(value)\n",
      "/home/noam/.pyenv/versions/toshl-fixer/lib/python3.8/site-packages/pandas/core/indexing.py:494: SettingWithCopyWarning: \n",
      "A value is trying to be set on a copy of a slice from a DataFrame.\n",
      "Try using .loc[row_indexer,col_indexer] = value instead\n",
      "\n",
      "See the caveats in the documentation: http://pandas.pydata.org/pandas-docs/stable/user_guide/indexing.html#returning-a-view-versus-a-copy\n",
      "  self.obj[item] = s\n"
     ],
     "output_type": "stream"
    },
    {
     "data": {
      "text/plain": "                                             desc  amount  \\\n109                                          GETT  -51.70   \n129                       NEXT DIRECTORY INTERNET -177.00   \n133                                          GETT  -40.49   \n134                                          GETT  -57.97   \n137                          חניון רכב די.סי בע\"מ  -22.00   \n..                                            ...     ...   \n258                                         כימרה -131.00   \n259                                רולדין יהודה ה  -23.00   \n260                                  חניון ק.אביב  -11.00   \n263  00295 הלוואה - תשלום ריבית (תאריך ערך 02/12)  -31.12   \n269                                קיוסק יהודה מכ  -32.00   \n\n                     cat/tag                           label  \n109        Transport/missing                   Other/missing  \n129         Transfer/missing                   Other/missing  \n133        Transport/missing                   Other/missing  \n134        Transport/missing                   Other/missing  \n137            Other/missing  Health & Personal Care/missing  \n..                       ...                             ...  \n258         Clothing/clothes                   Other/missing  \n259       Leisure/Eating out                   Other/missing  \n260        Transport/parking                   Other/missing  \n263  Taxes & Insurance/loans                   Other/missing  \n269       Leisure/Eating out                Basics/groceries  \n\n[84 rows x 4 columns]",
      "text/html": "<div>\n<style scoped>\n    .dataframe tbody tr th:only-of-type {\n        vertical-align: middle;\n    }\n\n    .dataframe tbody tr th {\n        vertical-align: top;\n    }\n\n    .dataframe thead th {\n        text-align: right;\n    }\n</style>\n<table border=\"1\" class=\"dataframe\">\n  <thead>\n    <tr style=\"text-align: right;\">\n      <th></th>\n      <th>desc</th>\n      <th>amount</th>\n      <th>cat/tag</th>\n      <th>label</th>\n    </tr>\n  </thead>\n  <tbody>\n    <tr>\n      <th>109</th>\n      <td>GETT</td>\n      <td>-51.70</td>\n      <td>Transport/missing</td>\n      <td>Other/missing</td>\n    </tr>\n    <tr>\n      <th>129</th>\n      <td>NEXT DIRECTORY INTERNET</td>\n      <td>-177.00</td>\n      <td>Transfer/missing</td>\n      <td>Other/missing</td>\n    </tr>\n    <tr>\n      <th>133</th>\n      <td>GETT</td>\n      <td>-40.49</td>\n      <td>Transport/missing</td>\n      <td>Other/missing</td>\n    </tr>\n    <tr>\n      <th>134</th>\n      <td>GETT</td>\n      <td>-57.97</td>\n      <td>Transport/missing</td>\n      <td>Other/missing</td>\n    </tr>\n    <tr>\n      <th>137</th>\n      <td>חניון רכב די.סי בע\"מ</td>\n      <td>-22.00</td>\n      <td>Other/missing</td>\n      <td>Health &amp; Personal Care/missing</td>\n    </tr>\n    <tr>\n      <th>...</th>\n      <td>...</td>\n      <td>...</td>\n      <td>...</td>\n      <td>...</td>\n    </tr>\n    <tr>\n      <th>258</th>\n      <td>כימרה</td>\n      <td>-131.00</td>\n      <td>Clothing/clothes</td>\n      <td>Other/missing</td>\n    </tr>\n    <tr>\n      <th>259</th>\n      <td>רולדין יהודה ה</td>\n      <td>-23.00</td>\n      <td>Leisure/Eating out</td>\n      <td>Other/missing</td>\n    </tr>\n    <tr>\n      <th>260</th>\n      <td>חניון ק.אביב</td>\n      <td>-11.00</td>\n      <td>Transport/parking</td>\n      <td>Other/missing</td>\n    </tr>\n    <tr>\n      <th>263</th>\n      <td>00295 הלוואה - תשלום ריבית (תאריך ערך 02/12)</td>\n      <td>-31.12</td>\n      <td>Taxes &amp; Insurance/loans</td>\n      <td>Other/missing</td>\n    </tr>\n    <tr>\n      <th>269</th>\n      <td>קיוסק יהודה מכ</td>\n      <td>-32.00</td>\n      <td>Leisure/Eating out</td>\n      <td>Basics/groceries</td>\n    </tr>\n  </tbody>\n</table>\n<p>84 rows × 4 columns</p>\n</div>"
     },
     "metadata": {},
     "output_type": "execute_result",
     "execution_count": 97
    }
   ],
   "source": [
    "for index, row in test_vec.iterrows():\n",
    "    test_data.at[index, 'label'] = clf.predict(row.values.reshape(1, -1))[0]\n",
    " \n",
    "test_data\n",
    "\t\n",
    "test_data[test_data['label'] != test_data['cat/tag']]\n",
    "# test_vec.iloc[1].values"
   ],
   "metadata": {
    "collapsed": false,
    "pycharm": {
     "name": "#%%\n",
     "is_executing": false
    }
   }
  },
  {
   "cell_type": "code",
   "execution_count": 98,
   "outputs": [
    {
     "data": {
      "text/plain": "                                      desc  amount             cat/tag\n0                         הפניקס אוטו חובה -702.00      Basics/Charity\n1             WIND MOBILITY GMBH BERLIN DE  -35.50  Transport/scooters\n2                  טיב טעם יהודה המכבי ת\"א -110.33    Basics/groceries\n3                קיוסק יהודה מכבי 55 תל אב  -32.00       Other/missing\n4                                רובין הוד  -20.00        Leisure/apps\n..                                     ...     ...                 ...\n86                                  תן ביס  -50.80    unsorted/missing\n87                 טיב טעם יהודה המכבי ת\"א  -21.70    Basics/groceries\n88                                  תן ביס  -40.00    unsorted/missing\n89               אריאל ספא אלון ספורט קלאב -200.00    Clothing/missing\n90  THE TRICYCLE FOUNDATIO 646-461-9848 US  -21.32    unsorted/missing\n\n[91 rows x 3 columns]",
      "text/html": "<div>\n<style scoped>\n    .dataframe tbody tr th:only-of-type {\n        vertical-align: middle;\n    }\n\n    .dataframe tbody tr th {\n        vertical-align: top;\n    }\n\n    .dataframe thead th {\n        text-align: right;\n    }\n</style>\n<table border=\"1\" class=\"dataframe\">\n  <thead>\n    <tr style=\"text-align: right;\">\n      <th></th>\n      <th>desc</th>\n      <th>amount</th>\n      <th>cat/tag</th>\n    </tr>\n  </thead>\n  <tbody>\n    <tr>\n      <th>0</th>\n      <td>הפניקס אוטו חובה</td>\n      <td>-702.00</td>\n      <td>Basics/Charity</td>\n    </tr>\n    <tr>\n      <th>1</th>\n      <td>WIND MOBILITY GMBH BERLIN DE</td>\n      <td>-35.50</td>\n      <td>Transport/scooters</td>\n    </tr>\n    <tr>\n      <th>2</th>\n      <td>טיב טעם יהודה המכבי ת\"א</td>\n      <td>-110.33</td>\n      <td>Basics/groceries</td>\n    </tr>\n    <tr>\n      <th>3</th>\n      <td>קיוסק יהודה מכבי 55 תל אב</td>\n      <td>-32.00</td>\n      <td>Other/missing</td>\n    </tr>\n    <tr>\n      <th>4</th>\n      <td>רובין הוד</td>\n      <td>-20.00</td>\n      <td>Leisure/apps</td>\n    </tr>\n    <tr>\n      <th>...</th>\n      <td>...</td>\n      <td>...</td>\n      <td>...</td>\n    </tr>\n    <tr>\n      <th>86</th>\n      <td>תן ביס</td>\n      <td>-50.80</td>\n      <td>unsorted/missing</td>\n    </tr>\n    <tr>\n      <th>87</th>\n      <td>טיב טעם יהודה המכבי ת\"א</td>\n      <td>-21.70</td>\n      <td>Basics/groceries</td>\n    </tr>\n    <tr>\n      <th>88</th>\n      <td>תן ביס</td>\n      <td>-40.00</td>\n      <td>unsorted/missing</td>\n    </tr>\n    <tr>\n      <th>89</th>\n      <td>אריאל ספא אלון ספורט קלאב</td>\n      <td>-200.00</td>\n      <td>Clothing/missing</td>\n    </tr>\n    <tr>\n      <th>90</th>\n      <td>THE TRICYCLE FOUNDATIO 646-461-9848 US</td>\n      <td>-21.32</td>\n      <td>unsorted/missing</td>\n    </tr>\n  </tbody>\n</table>\n<p>91 rows × 3 columns</p>\n</div>"
     },
     "metadata": {},
     "output_type": "execute_result",
     "execution_count": 98
    }
   ],
   "source": [
    "training_data\n"
   ],
   "metadata": {
    "collapsed": false,
    "pycharm": {
     "name": "#%%\n",
     "is_executing": false
    }
   }
  }
 ],
 "metadata": {
  "kernelspec": {
   "display_name": "Python 3",
   "language": "python",
   "name": "python3"
  },
  "language_info": {
   "codemirror_mode": {
    "name": "ipython",
    "version": 2
   },
   "file_extension": ".py",
   "mimetype": "text/x-python",
   "name": "python",
   "nbconvert_exporter": "python",
   "pygments_lexer": "ipython2",
   "version": "2.7.6"
  },
  "pycharm": {
   "stem_cell": {
    "cell_type": "raw",
    "source": [],
    "metadata": {
     "collapsed": false
    }
   }
  }
 },
 "nbformat": 4,
 "nbformat_minor": 0
}